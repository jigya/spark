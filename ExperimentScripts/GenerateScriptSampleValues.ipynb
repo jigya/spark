{
 "cells": [
  {
   "cell_type": "code",
   "execution_count": 3,
   "metadata": {},
   "outputs": [],
   "source": [
    "seqCmdString = \"CriteoBinaryClassification\"\n",
    "batchCmdString = \"CriteoBatchBinaryClassification\"\n",
    "masterPath = \"spark://128.104.223.173:7077\"\n",
    "pathOfJar = \"hdfs://spark-cluster-master:9000/app/criteoclassification_2.12-1.0.jar\"\n",
    "trainingFilePath = \"\\\"hdfs://spark-cluster-master:9000/data/criteo.kaggle2014.train.svm\\\"\"\n",
    "testFilePath = \"\\\"hdfs://spark-cluster-master:9000/data/criteo.kaggle2014.test.svm\\\"\"\n",
    "numRegParams = 10\n",
    "dataFraction = 1.0\n",
    "batchSizeFraction = 1.0\n",
    "featuresFraction = 1.0\n",
    "maxNumFeatures = 1000000\n",
    "\n",
    "\n",
    "baseCmd = \"./bin/spark-submit --class org.apache.batchexperiments.{0} --master {1} --deploy-mode cluster {2} {3} {4} {5} {6} {7} {8} {9}\"\n",
    "\n"
   ]
  },
  {
   "cell_type": "code",
   "execution_count": 4,
   "metadata": {},
   "outputs": [],
   "source": [
    "# Different number of regularization parameters\n",
    "\n",
    "logseqcmd_varregparams = \"/Users/jigyayadav/Desktop/UCSDAcads/Quarter5/CSE291F/spark.nosync/spark/ExperimentScripts/Sequential_RegParams.sh\"\n",
    "logbatchcmd_varregparams = \"/Users/jigyayadav/Desktop/UCSDAcads/Quarter5/CSE291F/spark.nosync/spark/ExperimentScripts/Batch_RegParams.sh\"\n",
    "\n",
    "f_seq = open(logseqcmd_varregparams, \"w\")\n",
    "f_batch = open(logbatchcmd_varregparams, \"w\")\n",
    "for varNumRegParams in [1, 2, 3, 5, 10, 15, 20, 25]:\n",
    "    finalSeqCmd = baseCmd.format(seqCmdString, masterPath, \n",
    "                              pathOfJar, trainingFilePath, \n",
    "                              testFilePath, varNumRegParams, \n",
    "                              dataFraction, batchSizeFraction, featuresFraction, maxNumFeatures)\n",
    "    f_seq.write(finalSeqCmd + \"\\n\")\n",
    "    finalBatchCmd = baseCmd.format(batchCmdString, masterPath, \n",
    "                              pathOfJar, trainingFilePath, \n",
    "                              testFilePath, varNumRegParams, \n",
    "                              dataFraction, batchSizeFraction, featuresFraction, maxNumFeatures)\n",
    "    f_batch.write(finalBatchCmd + \"\\n\")\n",
    "    \n",
    "f_seq.close()\n",
    "f_batch.close()"
   ]
  },
  {
   "cell_type": "code",
   "execution_count": 5,
   "metadata": {},
   "outputs": [],
   "source": [
    "# Different number of data fractions\n",
    "\n",
    "logseqcmd = \"/Users/jigyayadav/Desktop/UCSDAcads/Quarter5/CSE291F/spark.nosync/spark/ExperimentScripts/Sequential_DataFractions.sh\"\n",
    "logbatchcmd = \"/Users/jigyayadav/Desktop/UCSDAcads/Quarter5/CSE291F/spark.nosync/spark/ExperimentScripts/Batch_DataFractions.sh\"\n",
    "\n",
    "f_seq = open(logseqcmd, \"w\")\n",
    "f_batch = open(logbatchcmd, \"w\")\n",
    "for varDataFraction in [0.4, 0.6, 0.8, 1.0]:\n",
    "    finalSeqCmd = baseCmd.format(seqCmdString, masterPath, \n",
    "                              pathOfJar, trainingFilePath, \n",
    "                              testFilePath, numRegParams, \n",
    "                              varDataFraction, batchSizeFraction, featuresFraction, maxNumFeatures)\n",
    "    f_seq.write(finalSeqCmd + \"\\n\")\n",
    "    finalBatchCmd = baseCmd.format(batchCmdString, masterPath, \n",
    "                              pathOfJar, trainingFilePath, \n",
    "                              testFilePath, numRegParams, \n",
    "                              varDataFraction, batchSizeFraction, featuresFraction, maxNumFeatures)\n",
    "    f_batch.write(finalBatchCmd + \"\\n\")\n",
    "    \n",
    "f_seq.close()\n",
    "f_batch.close()"
   ]
  },
  {
   "cell_type": "code",
   "execution_count": 6,
   "metadata": {},
   "outputs": [],
   "source": [
    "# Different number of batch size fractions\n",
    "\n",
    "logseqcmd = \"/Users/jigyayadav/Desktop/UCSDAcads/Quarter5/CSE291F/spark.nosync/spark/ExperimentScripts/Sequential_BatchSizes.sh\"\n",
    "logbatchcmd = \"/Users/jigyayadav/Desktop/UCSDAcads/Quarter5/CSE291F/spark.nosync/spark/ExperimentScripts/Batch_BatchSizes.sh\"\n",
    "\n",
    "f_seq = open(logseqcmd, \"w\")\n",
    "f_batch = open(logbatchcmd, \"w\")\n",
    "for varBatchFraction in [0.3, 0.5, 0.7, 0.9, 1.0]:\n",
    "    finalSeqCmd = baseCmd.format(seqCmdString, masterPath, \n",
    "                              pathOfJar, trainingFilePath, \n",
    "                              testFilePath, numRegParams, \n",
    "                              dataFraction, varBatchFraction, featuresFraction, maxNumFeatures)\n",
    "    f_seq.write(finalSeqCmd + \"\\n\")\n",
    "    finalBatchCmd = baseCmd.format(batchCmdString, masterPath, \n",
    "                              pathOfJar, trainingFilePath, \n",
    "                              testFilePath, numRegParams, \n",
    "                              dataFraction, varBatchFraction, featuresFraction, maxNumFeatures)\n",
    "    f_batch.write(finalBatchCmd + \"\\n\")\n",
    "    \n",
    "f_seq.close()\n",
    "f_batch.close()"
   ]
  },
  {
   "cell_type": "code",
   "execution_count": 7,
   "metadata": {},
   "outputs": [],
   "source": [
    "# Different number of feature size fractions\n",
    "# Need to changes this to run for a fixed number of iterations\n",
    "\n",
    "logseqcmd = \"/Users/jigyayadav/Desktop/UCSDAcads/Quarter5/CSE291F/spark.nosync/spark/ExperimentScripts/Sequential_FeatureSize.sh\"\n",
    "logbatchcmd = \"/Users/jigyayadav/Desktop/UCSDAcads/Quarter5/CSE291F/spark.nosync/spark/ExperimentScripts/Batch_FeatureSize.sh\"\n",
    "\n",
    "f_seq = open(logseqcmd, \"w\")\n",
    "f_batch = open(logbatchcmd, \"w\")\n",
    "for varFeatureFraction in [0.3, 0.5, 0.7, 0.9, 1.0]:\n",
    "    finalSeqCmd = baseCmd.format(seqCmdString, masterPath, \n",
    "                              pathOfJar, trainingFilePath, \n",
    "                              testFilePath, numRegParams, \n",
    "                              dataFraction, batchSizeFraction, varFeatureFraction, maxNumFeatures)\n",
    "    f_seq.write(finalSeqCmd + \"\\n\")\n",
    "    finalBatchCmd = baseCmd.format(batchCmdString, masterPath, \n",
    "                              pathOfJar, trainingFilePath, \n",
    "                              testFilePath, numRegParams, \n",
    "                              dataFraction, batchSizeFraction, varFeatureFraction, maxNumFeatures)\n",
    "    f_batch.write(finalBatchCmd + \"\\n\")\n",
    "    \n",
    "f_seq.close()\n",
    "f_batch.close()"
   ]
  },
  {
   "cell_type": "code",
   "execution_count": 2,
   "metadata": {},
   "outputs": [
    {
     "ename": "FileNotFoundError",
     "evalue": "[Errno 2] No such file or directory: '/Users/jigyayadav/Desktop/UCSDAcads/Quarter5/CSE291F/spark.nosync/ExperimentScripts/Sequential_CostModel.sh'",
     "output_type": "error",
     "traceback": [
      "\u001b[0;31m---------------------------------------------------------------------------\u001b[0m",
      "\u001b[0;31mFileNotFoundError\u001b[0m                         Traceback (most recent call last)",
      "\u001b[0;32m<ipython-input-2-478bd0899577>\u001b[0m in \u001b[0;36m<module>\u001b[0;34m\u001b[0m\n\u001b[1;32m     10\u001b[0m \u001b[0mlogbatchcmd\u001b[0m \u001b[0;34m=\u001b[0m \u001b[0;34m\"/Users/jigyayadav/Desktop/UCSDAcads/Quarter5/CSE291F/spark.nosync/ExperimentScripts/Batch_CostModel.sh\"\u001b[0m\u001b[0;34m\u001b[0m\u001b[0;34m\u001b[0m\u001b[0m\n\u001b[1;32m     11\u001b[0m \u001b[0;34m\u001b[0m\u001b[0m\n\u001b[0;32m---> 12\u001b[0;31m \u001b[0mf_seq\u001b[0m \u001b[0;34m=\u001b[0m \u001b[0mopen\u001b[0m\u001b[0;34m(\u001b[0m\u001b[0mlogseqcmd\u001b[0m\u001b[0;34m,\u001b[0m \u001b[0;34m\"w\"\u001b[0m\u001b[0;34m)\u001b[0m\u001b[0;34m\u001b[0m\u001b[0;34m\u001b[0m\u001b[0m\n\u001b[0m\u001b[1;32m     13\u001b[0m \u001b[0mf_batch\u001b[0m \u001b[0;34m=\u001b[0m \u001b[0mopen\u001b[0m\u001b[0;34m(\u001b[0m\u001b[0mlogbatchcmd\u001b[0m\u001b[0;34m,\u001b[0m \u001b[0;34m\"w\"\u001b[0m\u001b[0;34m)\u001b[0m\u001b[0;34m\u001b[0m\u001b[0;34m\u001b[0m\u001b[0m\n\u001b[1;32m     14\u001b[0m \u001b[0;32mfor\u001b[0m \u001b[0mi\u001b[0m \u001b[0;32min\u001b[0m \u001b[0mrange\u001b[0m\u001b[0;34m(\u001b[0m\u001b[0;36m0\u001b[0m\u001b[0;34m,\u001b[0m \u001b[0;36m100\u001b[0m\u001b[0;34m)\u001b[0m\u001b[0;34m:\u001b[0m\u001b[0;34m\u001b[0m\u001b[0;34m\u001b[0m\u001b[0m\n",
      "\u001b[0;31mFileNotFoundError\u001b[0m: [Errno 2] No such file or directory: '/Users/jigyayadav/Desktop/UCSDAcads/Quarter5/CSE291F/spark.nosync/ExperimentScripts/Sequential_CostModel.sh'"
     ]
    }
   ],
   "source": [
    "# Different pairings of parameters to get 100 values\n",
    "import numpy as np\n",
    "\n",
    "regParamsArr = [1, 2, 3, 5, 10, 15, 20, 25]\n",
    "dataFractionArr = [0.4, 0.6, 0.8, 1.0]\n",
    "batchFractionArr = [0.3, 0.5, 0.7, 0.9, 1.0]\n",
    "featureFractionArr = [0.3, 0.5, 0.7, 0.9, 1.0]\n",
    "\n",
    "logseqcmd = \"/Users/jigyayadav/Desktop/UCSDAcads/Quarter5/CSE291F/spark.nosync/spark/ExperimentScripts/Sequential_CostModel.sh\"\n",
    "logbatchcmd = \"/Users/jigyayadav/Desktop/UCSDAcads/Quarter5/CSE291F/spark.nosync/spark/ExperimentScripts/Batch_CostModel.sh\"\n",
    "\n",
    "f_seq = open(logseqcmd, \"w\")\n",
    "f_batch = open(logbatchcmd, \"w\")\n",
    "for i in range(0, 100):\n",
    "    regParamCurr = np.random.choice(regParamsArr, 1)[0]\n",
    "    dataFractionCurr = np.random.choice(dataFractionArr, 1)[0]\n",
    "    batchFractionCurr = np.random.choice(batchFractionArr, 1)[0]\n",
    "    featureFractionCurr = np.random.choice(featureFractionArr, 1)[0]\n",
    "    finalSeqCmd = baseCmd.format(seqCmdString, masterPath, \n",
    "                              pathOfJar, trainingFilePath, \n",
    "                              testFilePath, regParamCurr, \n",
    "                              dataFractionCurr, batchFractionCurr, featureFractionCurr, maxNumFeatures)\n",
    "    f_seq.write(finalSeqCmd + \"\\n\")\n",
    "    finalBatchCmd = baseCmd.format(batchCmdString, masterPath, \n",
    "                              pathOfJar, trainingFilePath, \n",
    "                              testFilePath, regParamCurr, \n",
    "                              dataFractionCurr, batchFractionCurr, featureFractionCurr, maxNumFeatures)\n",
    "    f_batch.write(finalBatchCmd + \"\\n\")\n",
    "    \n",
    "f_seq.close()\n",
    "f_batch.close()"
   ]
  },
  {
   "cell_type": "code",
   "execution_count": null,
   "metadata": {},
   "outputs": [],
   "source": []
  }
 ],
 "metadata": {
  "kernelspec": {
   "display_name": "Python 3",
   "language": "python",
   "name": "python3"
  },
  "language_info": {
   "codemirror_mode": {
    "name": "ipython",
    "version": 3
   },
   "file_extension": ".py",
   "mimetype": "text/x-python",
   "name": "python",
   "nbconvert_exporter": "python",
   "pygments_lexer": "ipython3",
   "version": "3.6.8"
  }
 },
 "nbformat": 4,
 "nbformat_minor": 2
}
